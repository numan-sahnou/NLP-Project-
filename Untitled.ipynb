{
 "cells": [
  {
   "cell_type": "code",
   "execution_count": 329,
   "id": "metric-bones",
   "metadata": {},
   "outputs": [],
   "source": [
    "import pandas as pd\n",
    "import numpy as np\n",
    "import nltk\n",
    "from bs4 import BeautifulSoup\n",
    "import string\n",
    "from nltk.corpus import stopwords\n",
    "from nltk.tokenize import RegexpTokenizer\n",
    "from nltk.stem import WordNetLemmatizer\n",
    "from nltk.stem.porter import PorterStemmer\n",
    "import pickle\n",
    "import re\n",
    "from sklearn.feature_extraction.text import TfidfVectorizer\n",
    "from sklearn.model_selection import train_test_split\n",
    "from sklearn.feature_selection import chi2\n",
    "import os, sys"
   ]
  },
  {
   "cell_type": "markdown",
   "id": "dimensional-currency",
   "metadata": {},
   "source": [
    "### Create a dataframe with name of president, the file name & the content :"
   ]
  },
  {
   "cell_type": "code",
   "execution_count": 330,
   "id": "corporate-antique",
   "metadata": {},
   "outputs": [
    {
     "name": "stdout",
     "output_type": "stream",
     "text": [
      "['Andrew Jackson', 'Barack Obama', 'Bill Clinton', 'Donald Trump', 'Franklin D. Roosevelt', 'George H. W. Bush', 'George W. Bush', 'George Washington', 'Richard M. Nixon', 'Ronald Reagan', 'Thomas Jefferson']\n"
     ]
    }
   ],
   "source": [
    "# Open a file\n",
    "path = 'presidents-speeches/'\n",
    "dirs = os.listdir( path )\n",
    "\n",
    "# This would print all the files and directories\n",
    "print(dirs)"
   ]
  },
  {
   "cell_type": "code",
   "execution_count": 331,
   "id": "eleven-norfolk",
   "metadata": {},
   "outputs": [],
   "source": [
    "df = pd.DataFrame(columns = ['President', 'File Name', 'Content'])"
   ]
  },
  {
   "cell_type": "code",
   "execution_count": 332,
   "id": "taken-pottery",
   "metadata": {},
   "outputs": [],
   "source": [
    "for i in dirs:\n",
    "    speeches_path = path + i + '/speeches/'\n",
    "    for j in os.listdir(speeches_path):\n",
    "        f = open(speeches_path+j,'r', encoding=\"utf-8\")\n",
    "        df = df.append({'President' : i, 'File Name' : j,'Content': f.read()}, ignore_index=True)"
   ]
  },
  {
   "cell_type": "code",
   "execution_count": 333,
   "id": "destroyed-civilian",
   "metadata": {},
   "outputs": [
    {
     "data": {
      "text/html": [
       "<div>\n",
       "<style scoped>\n",
       "    .dataframe tbody tr th:only-of-type {\n",
       "        vertical-align: middle;\n",
       "    }\n",
       "\n",
       "    .dataframe tbody tr th {\n",
       "        vertical-align: top;\n",
       "    }\n",
       "\n",
       "    .dataframe thead th {\n",
       "        text-align: right;\n",
       "    }\n",
       "</style>\n",
       "<table border=\"1\" class=\"dataframe\">\n",
       "  <thead>\n",
       "    <tr style=\"text-align: right;\">\n",
       "      <th></th>\n",
       "      <th>President</th>\n",
       "      <th>File Name</th>\n",
       "      <th>Content</th>\n",
       "    </tr>\n",
       "  </thead>\n",
       "  <tbody>\n",
       "    <tr>\n",
       "      <th>0</th>\n",
       "      <td>Andrew Jackson</td>\n",
       "      <td>April 15, 1834__ProtestofSenateCensure.txt</td>\n",
       "      <td>b'To the Senate of the United States:\\nIt appe...</td>\n",
       "    </tr>\n",
       "    <tr>\n",
       "      <th>1</th>\n",
       "      <td>Andrew Jackson</td>\n",
       "      <td>April 21, 1834__AddendumtotheProtestofSenateCe...</td>\n",
       "      <td>b'To the Senate of the United States:\\nHaving ...</td>\n",
       "    </tr>\n",
       "    <tr>\n",
       "      <th>2</th>\n",
       "      <td>Andrew Jackson</td>\n",
       "      <td>December 1, 1834__SixthAnnualMessagetoCongress...</td>\n",
       "      <td>b'Fellow Citizens of the Senate and House of R...</td>\n",
       "    </tr>\n",
       "    <tr>\n",
       "      <th>3</th>\n",
       "      <td>Andrew Jackson</td>\n",
       "      <td>December 10, 1832__NullificationProclamation.txt</td>\n",
       "      <td>b'By Andrew Jackson, President of the United S...</td>\n",
       "    </tr>\n",
       "    <tr>\n",
       "      <th>4</th>\n",
       "      <td>Andrew Jackson</td>\n",
       "      <td>December 12, 1833__MessageontheConstitutionalR...</td>\n",
       "      <td>b'I have attentively considered the resolution...</td>\n",
       "    </tr>\n",
       "    <tr>\n",
       "      <th>...</th>\n",
       "      <td>...</td>\n",
       "      <td>...</td>\n",
       "      <td>...</td>\n",
       "    </tr>\n",
       "    <tr>\n",
       "      <th>371</th>\n",
       "      <td>Thomas Jefferson</td>\n",
       "      <td>November 3, 1802__AddresstoBrotherHandsomeLake...</td>\n",
       "      <td>b\"TO BROTHER HANDSOME LAKE:           I have r...</td>\n",
       "    </tr>\n",
       "    <tr>\n",
       "      <th>372</th>\n",
       "      <td>Thomas Jefferson</td>\n",
       "      <td>November 8, 1804__FourthAnnualMessage.txt</td>\n",
       "      <td>b'To the Senate and House of Representatives o...</td>\n",
       "    </tr>\n",
       "    <tr>\n",
       "      <th>373</th>\n",
       "      <td>Thomas Jefferson</td>\n",
       "      <td>November 8, 1808__EighthAnnualMessage.txt</td>\n",
       "      <td>b\"  TO THE SENATE AND HOUSE OF REPRESENTATIVES...</td>\n",
       "    </tr>\n",
       "    <tr>\n",
       "      <th>374</th>\n",
       "      <td>Thomas Jefferson</td>\n",
       "      <td>October 17, 1803__ThirdAnnualMessage.txt</td>\n",
       "      <td>b'TO THE SENATE AND HOUSE OF REPRESENTATIVES O...</td>\n",
       "    </tr>\n",
       "    <tr>\n",
       "      <th>375</th>\n",
       "      <td>Thomas Jefferson</td>\n",
       "      <td>October 27, 1807__SeventhAnnualMessage.txt</td>\n",
       "      <td>b\"  To the Senate and House of Representatives...</td>\n",
       "    </tr>\n",
       "  </tbody>\n",
       "</table>\n",
       "<p>376 rows × 3 columns</p>\n",
       "</div>"
      ],
      "text/plain": [
       "            President                                          File Name  \\\n",
       "0      Andrew Jackson         April 15, 1834__ProtestofSenateCensure.txt   \n",
       "1      Andrew Jackson  April 21, 1834__AddendumtotheProtestofSenateCe...   \n",
       "2      Andrew Jackson  December 1, 1834__SixthAnnualMessagetoCongress...   \n",
       "3      Andrew Jackson   December 10, 1832__NullificationProclamation.txt   \n",
       "4      Andrew Jackson  December 12, 1833__MessageontheConstitutionalR...   \n",
       "..                ...                                                ...   \n",
       "371  Thomas Jefferson  November 3, 1802__AddresstoBrotherHandsomeLake...   \n",
       "372  Thomas Jefferson          November 8, 1804__FourthAnnualMessage.txt   \n",
       "373  Thomas Jefferson          November 8, 1808__EighthAnnualMessage.txt   \n",
       "374  Thomas Jefferson           October 17, 1803__ThirdAnnualMessage.txt   \n",
       "375  Thomas Jefferson         October 27, 1807__SeventhAnnualMessage.txt   \n",
       "\n",
       "                                               Content  \n",
       "0    b'To the Senate of the United States:\\nIt appe...  \n",
       "1    b'To the Senate of the United States:\\nHaving ...  \n",
       "2    b'Fellow Citizens of the Senate and House of R...  \n",
       "3    b'By Andrew Jackson, President of the United S...  \n",
       "4    b'I have attentively considered the resolution...  \n",
       "..                                                 ...  \n",
       "371  b\"TO BROTHER HANDSOME LAKE:           I have r...  \n",
       "372  b'To the Senate and House of Representatives o...  \n",
       "373  b\"  TO THE SENATE AND HOUSE OF REPRESENTATIVES...  \n",
       "374  b'TO THE SENATE AND HOUSE OF REPRESENTATIVES O...  \n",
       "375  b\"  To the Senate and House of Representatives...  \n",
       "\n",
       "[376 rows x 3 columns]"
      ]
     },
     "execution_count": 333,
     "metadata": {},
     "output_type": "execute_result"
    }
   ],
   "source": [
    "df"
   ]
  },
  {
   "cell_type": "markdown",
   "id": "black-offer",
   "metadata": {},
   "source": [
    "### Data pre-processing"
   ]
  },
  {
   "cell_type": "code",
   "execution_count": 334,
   "id": "biological-gross",
   "metadata": {},
   "outputs": [],
   "source": [
    "from nltk.corpus import stopwords\n",
    "from nltk.tokenize import word_tokenize\n",
    "from nltk.tokenize import RegexpTokenizer\n",
    "from nltk.stem import WordNetLemmatizer \n",
    "from unicodedata import normalize\n",
    "\n",
    "import unicodedata"
   ]
  },
  {
   "cell_type": "code",
   "execution_count": null,
   "id": "joined-attempt",
   "metadata": {},
   "outputs": [],
   "source": []
  },
  {
   "cell_type": "code",
   "execution_count": 335,
   "id": "about-carnival",
   "metadata": {},
   "outputs": [],
   "source": [
    "df.Content = df['Content'].apply(lambda x: re.sub(r'\\\\n', ' ', x))\n",
    "df.Content = df['Content'].apply(lambda x: re.sub(r'\\\\xc2', ' ', x))\n",
    "df.Content = df['Content'].apply(lambda x: re.sub(r'\\\\xa0', ' ', x))\n",
    "df.Content = df['Content'].apply(lambda x: re.sub(r'\\\\xe2', ' ', x))\n",
    "df.Content = df['Content'].apply(lambda x: re.sub(r'\\\\x99', ' ', x))\n",
    "df.Content = df['Content'].apply(lambda x: re.sub(r'\\\\x80', ' ', x))\n",
    "df.Content = df['Content'].apply(lambda x: re.sub(r'\\\\x93', ' ', x))\n",
    "df.Content = df['Content'].apply(lambda x: re.sub(r'\\\\x9', ' ', x))\n",
    "df.Content = df['Content'].apply(lambda x: re.sub(r'\\\\x94', ' ', x))\n",
    "df.Content = df['Content'].apply(lambda x: re.sub(r'd\\\\\\'', ' ', x))\n",
    "df.Content = df['Content'].apply(lambda x: re.sub(r'\\'', ' ', x))\n",
    "df.Content = df['Content'].apply(lambda x: re.sub(r'\\\\', ' ', x))\n",
    "df.Content = df['Content'].apply(lambda x: re.sub(r'\\\\\\'', ' ', x))\n",
    "df.Content = df['Content'].apply(lambda x: x[2:])\n",
    "\n",
    "#Tokenizer\n",
    "tokenizer = RegexpTokenizer(r'\\w+')\n",
    "df.Content = df.Content.str.lower()\n",
    "df.Content = df.Content.apply(lambda x: tokenizer.tokenize(x))\n",
    "\n",
    "#Remove Stopwords\n",
    "stopWords = set(stopwords.words(\"english\"))\n",
    "df.Content = df.Content.apply(lambda x: [word for word in x if not word in stopWords])\n",
    "\n",
    "#Lemmatizer\n",
    "def lemmatize_text(text):\n",
    "    lemmatizer = WordNetLemmatizer()\n",
    "    return [lemmatizer.lemmatize(w) for w in text]\n",
    "\n",
    "df.Content = df.Content.apply(lambda x: lemmatize_text(x))\n",
    "\n",
    "\n",
    "\n",
    "df.Content = df.Content.apply(lambda x: ' '.join([str(elem) for elem in x]))"
   ]
  },
  {
   "cell_type": "markdown",
   "id": "aggregate-cedar",
   "metadata": {},
   "source": [
    "### Label"
   ]
  },
  {
   "cell_type": "code",
   "execution_count": 336,
   "id": "negative-extent",
   "metadata": {},
   "outputs": [],
   "source": [
    "category_codes = {\n",
    "    'Andrew Jackson'        : 0,\n",
    "    'Barack Obama'          : 1,\n",
    "    'Bill Clinton'          : 2,\n",
    "    'Donald Trump'          : 3,\n",
    "    'Franklin D. Roosevelt' : 4,\n",
    "    'George H. W. Bush'     : 5,\n",
    "    'George W. Bush'        : 6,\n",
    "    'George Washington'     : 7,\n",
    "    'Richard M. Nixon'      : 8,\n",
    "    'Ronald Reagan'         : 9,\n",
    "    'Thomas Jefferson'      : 10\n",
    "}\n",
    "\n",
    "df['Label'] = df['President']\n",
    "df = df.replace({'Label' : category_codes})"
   ]
  },
  {
   "cell_type": "code",
   "execution_count": 337,
   "id": "disturbed-biology",
   "metadata": {},
   "outputs": [
    {
     "data": {
      "text/html": [
       "<div>\n",
       "<style scoped>\n",
       "    .dataframe tbody tr th:only-of-type {\n",
       "        vertical-align: middle;\n",
       "    }\n",
       "\n",
       "    .dataframe tbody tr th {\n",
       "        vertical-align: top;\n",
       "    }\n",
       "\n",
       "    .dataframe thead th {\n",
       "        text-align: right;\n",
       "    }\n",
       "</style>\n",
       "<table border=\"1\" class=\"dataframe\">\n",
       "  <thead>\n",
       "    <tr style=\"text-align: right;\">\n",
       "      <th></th>\n",
       "      <th>President</th>\n",
       "      <th>File Name</th>\n",
       "      <th>Content</th>\n",
       "      <th>Label</th>\n",
       "    </tr>\n",
       "  </thead>\n",
       "  <tbody>\n",
       "    <tr>\n",
       "      <th>0</th>\n",
       "      <td>Andrew Jackson</td>\n",
       "      <td>April 15, 1834__ProtestofSenateCensure.txt</td>\n",
       "      <td>senate united state appears published journal ...</td>\n",
       "      <td>0</td>\n",
       "    </tr>\n",
       "    <tr>\n",
       "      <th>1</th>\n",
       "      <td>Andrew Jackson</td>\n",
       "      <td>April 21, 1834__AddendumtotheProtestofSenateCe...</td>\n",
       "      <td>senate united state reason believe certain pas...</td>\n",
       "      <td>0</td>\n",
       "    </tr>\n",
       "    <tr>\n",
       "      <th>2</th>\n",
       "      <td>Andrew Jackson</td>\n",
       "      <td>December 1, 1834__SixthAnnualMessagetoCongress...</td>\n",
       "      <td>fellow citizen senate house representative per...</td>\n",
       "      <td>0</td>\n",
       "    </tr>\n",
       "    <tr>\n",
       "      <th>3</th>\n",
       "      <td>Andrew Jackson</td>\n",
       "      <td>December 10, 1832__NullificationProclamation.txt</td>\n",
       "      <td>andrew jackson president united state whereas ...</td>\n",
       "      <td>0</td>\n",
       "    </tr>\n",
       "    <tr>\n",
       "      <th>4</th>\n",
       "      <td>Andrew Jackson</td>\n",
       "      <td>December 12, 1833__MessageontheConstitutionalR...</td>\n",
       "      <td>attentively considered resolution senate 11th ...</td>\n",
       "      <td>0</td>\n",
       "    </tr>\n",
       "    <tr>\n",
       "      <th>...</th>\n",
       "      <td>...</td>\n",
       "      <td>...</td>\n",
       "      <td>...</td>\n",
       "      <td>...</td>\n",
       "    </tr>\n",
       "    <tr>\n",
       "      <th>371</th>\n",
       "      <td>Thomas Jefferson</td>\n",
       "      <td>November 3, 1802__AddresstoBrotherHandsomeLake...</td>\n",
       "      <td>brother handsome lake received message writing...</td>\n",
       "      <td>10</td>\n",
       "    </tr>\n",
       "    <tr>\n",
       "      <th>372</th>\n",
       "      <td>Thomas Jefferson</td>\n",
       "      <td>November 8, 1804__FourthAnnualMessage.txt</td>\n",
       "      <td>senate house representative united state peopl...</td>\n",
       "      <td>10</td>\n",
       "    </tr>\n",
       "    <tr>\n",
       "      <th>373</th>\n",
       "      <td>Thomas Jefferson</td>\n",
       "      <td>November 8, 1808__EighthAnnualMessage.txt</td>\n",
       "      <td>senate house representative united state would...</td>\n",
       "      <td>10</td>\n",
       "    </tr>\n",
       "    <tr>\n",
       "      <th>374</th>\n",
       "      <td>Thomas Jefferson</td>\n",
       "      <td>October 17, 1803__ThirdAnnualMessage.txt</td>\n",
       "      <td>senate house representative united state calli...</td>\n",
       "      <td>10</td>\n",
       "    </tr>\n",
       "    <tr>\n",
       "      <th>375</th>\n",
       "      <td>Thomas Jefferson</td>\n",
       "      <td>October 27, 1807__SeventhAnnualMessage.txt</td>\n",
       "      <td>senate house representative united state circu...</td>\n",
       "      <td>10</td>\n",
       "    </tr>\n",
       "  </tbody>\n",
       "</table>\n",
       "<p>376 rows × 4 columns</p>\n",
       "</div>"
      ],
      "text/plain": [
       "            President                                          File Name  \\\n",
       "0      Andrew Jackson         April 15, 1834__ProtestofSenateCensure.txt   \n",
       "1      Andrew Jackson  April 21, 1834__AddendumtotheProtestofSenateCe...   \n",
       "2      Andrew Jackson  December 1, 1834__SixthAnnualMessagetoCongress...   \n",
       "3      Andrew Jackson   December 10, 1832__NullificationProclamation.txt   \n",
       "4      Andrew Jackson  December 12, 1833__MessageontheConstitutionalR...   \n",
       "..                ...                                                ...   \n",
       "371  Thomas Jefferson  November 3, 1802__AddresstoBrotherHandsomeLake...   \n",
       "372  Thomas Jefferson          November 8, 1804__FourthAnnualMessage.txt   \n",
       "373  Thomas Jefferson          November 8, 1808__EighthAnnualMessage.txt   \n",
       "374  Thomas Jefferson           October 17, 1803__ThirdAnnualMessage.txt   \n",
       "375  Thomas Jefferson         October 27, 1807__SeventhAnnualMessage.txt   \n",
       "\n",
       "                                               Content  Label  \n",
       "0    senate united state appears published journal ...      0  \n",
       "1    senate united state reason believe certain pas...      0  \n",
       "2    fellow citizen senate house representative per...      0  \n",
       "3    andrew jackson president united state whereas ...      0  \n",
       "4    attentively considered resolution senate 11th ...      0  \n",
       "..                                                 ...    ...  \n",
       "371  brother handsome lake received message writing...     10  \n",
       "372  senate house representative united state peopl...     10  \n",
       "373  senate house representative united state would...     10  \n",
       "374  senate house representative united state calli...     10  \n",
       "375  senate house representative united state circu...     10  \n",
       "\n",
       "[376 rows x 4 columns]"
      ]
     },
     "execution_count": 337,
     "metadata": {},
     "output_type": "execute_result"
    }
   ],
   "source": [
    "df"
   ]
  },
  {
   "cell_type": "markdown",
   "id": "final-occasions",
   "metadata": {},
   "source": [
    "### Test Train split"
   ]
  },
  {
   "cell_type": "code",
   "execution_count": 338,
   "id": "scenic-russian",
   "metadata": {},
   "outputs": [],
   "source": [
    "from sklearn.model_selection import train_test_split\n",
    "train, test = train_test_split(df[['Content', 'Label']], test_size=0.2)"
   ]
  },
  {
   "cell_type": "code",
   "execution_count": 339,
   "id": "judicial-elite",
   "metadata": {},
   "outputs": [],
   "source": [
    "train.reset_index(drop=True, inplace=True)\n",
    "test.reset_index(drop=True, inplace=True)"
   ]
  },
  {
   "cell_type": "code",
   "execution_count": 340,
   "id": "alleged-solomon",
   "metadata": {},
   "outputs": [],
   "source": [
    "from sklearn.feature_extraction.text import CountVectorizer\n",
    "\n",
    "count_vect = CountVectorizer()\n",
    "count_vect.fit(train.Content)\n",
    "X_train_vect = count_vect.transform(train.Content)\n",
    "y_train = train.Label\n",
    "\n",
    "\n",
    "X_test_vect = count_vect.transform(test.Content)\n",
    "y_test = test.Label"
   ]
  },
  {
   "cell_type": "code",
   "execution_count": 366,
   "id": "fallen-jackson",
   "metadata": {},
   "outputs": [
    {
     "name": "stdout",
     "output_type": "stream",
     "text": [
      "0.5921052631578947\n"
     ]
    },
    {
     "name": "stderr",
     "output_type": "stream",
     "text": [
      "c:\\users\\numan\\appdata\\local\\programs\\python\\python39\\lib\\site-packages\\sklearn\\neighbors\\_base.py:462: UserWarning: cannot use tree with sparse input: using brute force\n",
      "  warnings.warn(\"cannot use tree with sparse input: \"\n"
     ]
    }
   ],
   "source": [
    "from sklearn.neighbors import KNeighborsClassifier\n",
    "\n",
    "\n",
    "clf_ = KNeighborsClassifier(n_neighbors=4, weights='distance',algorithm='kd_tree')\n",
    "clf_.fit(X_train_vect, y_train)\n",
    "\n",
    "from sklearn.metrics import accuracy_score\n",
    "\n",
    "prediction = clf_.predict(X_test_vect)\n",
    "print(accuracy_score(y_test, prediction))"
   ]
  },
  {
   "cell_type": "code",
   "execution_count": 372,
   "id": "greatest-implementation",
   "metadata": {},
   "outputs": [
    {
     "data": {
      "text/plain": [
       "0.5394736842105263"
      ]
     },
     "execution_count": 372,
     "metadata": {},
     "output_type": "execute_result"
    }
   ],
   "source": [
    "from sklearn.ensemble import GradientBoostingClassifier\n",
    "\n",
    "clf = GradientBoostingClassifier(n_estimators=100, learning_rate=0.1,\n",
    "max_depth=10, random_state=0).fit(X_train_vect, y_train)\n",
    "\n",
    "clf.score(X_test_vect, y_test)"
   ]
  },
  {
   "cell_type": "code",
   "execution_count": 373,
   "id": "smaller-knowing",
   "metadata": {},
   "outputs": [
    {
     "name": "stderr",
     "output_type": "stream",
     "text": [
      "c:\\users\\numan\\appdata\\local\\programs\\python\\python39\\lib\\site-packages\\xgboost\\sklearn.py:888: UserWarning: The use of label encoder in XGBClassifier is deprecated and will be removed in a future release. To remove this warning, do the following: 1) Pass option use_label_encoder=False when constructing XGBClassifier object; and 2) Encode your labels (y) as integers starting with 0, i.e. 0, 1, 2, ..., [num_class - 1].\n",
      "  warnings.warn(label_encoder_deprecation_msg, UserWarning)\n"
     ]
    },
    {
     "name": "stdout",
     "output_type": "stream",
     "text": [
      "[16:09:24] WARNING: C:/Users/Administrator/workspace/xgboost-win64_release_1.3.0/src/learner.cc:541: \n",
      "Parameters: { scale_pos_weight, silent } might not be used.\n",
      "\n",
      "  This may not be accurate due to some parameters are only used in language bindings but\n",
      "  passed down to XGBoost core.  Or some parameters are not used but slip through this\n",
      "  verification. Please open an issue if you find above cases.\n",
      "\n",
      "\n",
      "[16:09:24] WARNING: C:/Users/Administrator/workspace/xgboost-win64_release_1.3.0/src/learner.cc:1061: Starting in XGBoost 1.3.0, the default evaluation metric used with the objective 'multi:softprob' was changed from 'merror' to 'mlogloss'. Explicitly set eval_metric if you'd like to restore the old behavior.\n",
      "0.7236842105263158\n"
     ]
    }
   ],
   "source": [
    "from xgboost import XGBClassifier\n",
    "from sklearn.metrics import mean_squared_error\n",
    "\n",
    "model = XGBClassifier(silent=False, \n",
    "                      scale_pos_weight=1,\n",
    "                      learning_rate=0.1,  \n",
    "                      colsample_bytree = 0.8,\n",
    "                      subsample = 0.8,\n",
    "                      objective='binary:logistic', \n",
    "                      n_estimators=1000, \n",
    "                      reg_alpha = 0.3,\n",
    "                      max_depth=10, \n",
    "                      gamma=1)\n",
    "\n",
    "model.fit(X_train_vect,y_train)\n",
    "\n",
    "\n",
    "preds = model.predict(X_test_vect)\n",
    "\n",
    "predictions = [round(value) for value in preds]\n",
    "\n",
    "print(accuracy_score(y_test, predictions))"
   ]
  },
  {
   "cell_type": "code",
   "execution_count": 392,
   "id": "attractive-sheet",
   "metadata": {},
   "outputs": [
    {
     "data": {
      "text/html": [
       "<div>\n",
       "<style scoped>\n",
       "    .dataframe tbody tr th:only-of-type {\n",
       "        vertical-align: middle;\n",
       "    }\n",
       "\n",
       "    .dataframe tbody tr th {\n",
       "        vertical-align: top;\n",
       "    }\n",
       "\n",
       "    .dataframe thead th {\n",
       "        text-align: right;\n",
       "    }\n",
       "</style>\n",
       "<table border=\"1\" class=\"dataframe\">\n",
       "  <thead>\n",
       "    <tr style=\"text-align: right;\">\n",
       "      <th></th>\n",
       "      <th>Predicted</th>\n",
       "      <th>Real</th>\n",
       "    </tr>\n",
       "  </thead>\n",
       "  <tbody>\n",
       "    <tr>\n",
       "      <th>0</th>\n",
       "      <td>5</td>\n",
       "      <td>5</td>\n",
       "    </tr>\n",
       "    <tr>\n",
       "      <th>1</th>\n",
       "      <td>4</td>\n",
       "      <td>4</td>\n",
       "    </tr>\n",
       "    <tr>\n",
       "      <th>2</th>\n",
       "      <td>8</td>\n",
       "      <td>8</td>\n",
       "    </tr>\n",
       "    <tr>\n",
       "      <th>3</th>\n",
       "      <td>3</td>\n",
       "      <td>3</td>\n",
       "    </tr>\n",
       "    <tr>\n",
       "      <th>4</th>\n",
       "      <td>10</td>\n",
       "      <td>10</td>\n",
       "    </tr>\n",
       "    <tr>\n",
       "      <th>...</th>\n",
       "      <td>...</td>\n",
       "      <td>...</td>\n",
       "    </tr>\n",
       "    <tr>\n",
       "      <th>71</th>\n",
       "      <td>10</td>\n",
       "      <td>10</td>\n",
       "    </tr>\n",
       "    <tr>\n",
       "      <th>72</th>\n",
       "      <td>4</td>\n",
       "      <td>4</td>\n",
       "    </tr>\n",
       "    <tr>\n",
       "      <th>73</th>\n",
       "      <td>2</td>\n",
       "      <td>2</td>\n",
       "    </tr>\n",
       "    <tr>\n",
       "      <th>74</th>\n",
       "      <td>1</td>\n",
       "      <td>9</td>\n",
       "    </tr>\n",
       "    <tr>\n",
       "      <th>75</th>\n",
       "      <td>9</td>\n",
       "      <td>8</td>\n",
       "    </tr>\n",
       "  </tbody>\n",
       "</table>\n",
       "<p>76 rows × 2 columns</p>\n",
       "</div>"
      ],
      "text/plain": [
       "    Predicted  Real\n",
       "0           5     5\n",
       "1           4     4\n",
       "2           8     8\n",
       "3           3     3\n",
       "4          10    10\n",
       "..        ...   ...\n",
       "71         10    10\n",
       "72          4     4\n",
       "73          2     2\n",
       "74          1     9\n",
       "75          9     8\n",
       "\n",
       "[76 rows x 2 columns]"
      ]
     },
     "execution_count": 392,
     "metadata": {},
     "output_type": "execute_result"
    }
   ],
   "source": [
    "import matplotlib.pyplot as plt\n",
    "\n",
    "_predictions = pd.DataFrame(predictions)\n",
    "_real = pd.DataFrame(y_test)\n",
    "\n",
    "df1 = pd.concat([_predictions, _real], axis=1)\n",
    "\n",
    "df1 = df1.rename(columns={0: 'Predicted', 'Label': 'Real'})\n",
    "\n"
   ]
  },
  {
   "cell_type": "code",
   "execution_count": 400,
   "id": "chubby-asthma",
   "metadata": {},
   "outputs": [
    {
     "data": {
      "image/png": "[encoded data removed]",
      "text/plain": [
       "<Figure size 720x720 with 1 Axes>"
      ]
     },
     "metadata": {
      "needs_background": "light"
     },
     "output_type": "display_data"
    }
   ],
   "source": [
    "plt.figure(figsize=(10,10))\n",
    "plt.scatter(y_test, predictions, c='crimson')\n",
    "\n",
    "\n",
    "p1 = max(max(predictions), max(y_test))\n",
    "p2 = min(min(predictions), min(y_test))\n",
    "plt.plot([p1, p2], [p1, p2], 'b-')\n",
    "plt.xlabel('True Values', fontsize=15)\n",
    "plt.ylabel('Predictions', fontsize=15)\n",
    "plt.axis('equal')\n",
    "plt.show()\n",
    "\n"
   ]
  },
  {
   "cell_type": "code",
   "execution_count": 405,
   "id": "broke-demonstration",
   "metadata": {},
   "outputs": [
    {
     "ename": "PermissionError",
     "evalue": "[Errno 13] Permission denied: '\\\\president_dataset.csv'",
     "output_type": "error",
     "traceback": [
      "\u001b[1;31m---------------------------------------------------------------------------\u001b[0m",
      "\u001b[1;31mPermissionError\u001b[0m                           Traceback (most recent call last)",
      "\u001b[1;32m<ipython-input-405-fa8ee045a792>\u001b[0m in \u001b[0;36m<module>\u001b[1;34m\u001b[0m\n\u001b[1;32m----> 1\u001b[1;33m \u001b[0mdf\u001b[0m\u001b[1;33m[\u001b[0m\u001b[1;33m[\u001b[0m\u001b[1;34m'Content'\u001b[0m\u001b[1;33m,\u001b[0m \u001b[1;34m'Label'\u001b[0m\u001b[1;33m]\u001b[0m\u001b[1;33m]\u001b[0m\u001b[1;33m.\u001b[0m\u001b[0mto_csv\u001b[0m\u001b[1;33m(\u001b[0m\u001b[1;34mr'\\president_dataset.csv'\u001b[0m\u001b[1;33m,\u001b[0m \u001b[0mindex\u001b[0m \u001b[1;33m=\u001b[0m \u001b[1;32mFalse\u001b[0m\u001b[1;33m)\u001b[0m\u001b[1;33m\u001b[0m\u001b[1;33m\u001b[0m\u001b[0m\n\u001b[0m",
      "\u001b[1;32mc:\\users\\numan\\appdata\\local\\programs\\python\\python39\\lib\\site-packages\\pandas\\core\\generic.py\u001b[0m in \u001b[0;36mto_csv\u001b[1;34m(self, path_or_buf, sep, na_rep, float_format, columns, header, index, index_label, mode, encoding, compression, quoting, quotechar, line_terminator, chunksize, date_format, doublequote, escapechar, decimal, errors, storage_options)\u001b[0m\n\u001b[0;32m   3384\u001b[0m         )\n\u001b[0;32m   3385\u001b[0m \u001b[1;33m\u001b[0m\u001b[0m\n\u001b[1;32m-> 3386\u001b[1;33m         return DataFrameRenderer(formatter).to_csv(\n\u001b[0m\u001b[0;32m   3387\u001b[0m             \u001b[0mpath_or_buf\u001b[0m\u001b[1;33m,\u001b[0m\u001b[1;33m\u001b[0m\u001b[1;33m\u001b[0m\u001b[0m\n\u001b[0;32m   3388\u001b[0m             \u001b[0mline_terminator\u001b[0m\u001b[1;33m=\u001b[0m\u001b[0mline_terminator\u001b[0m\u001b[1;33m,\u001b[0m\u001b[1;33m\u001b[0m\u001b[1;33m\u001b[0m\u001b[0m\n",
      "\u001b[1;32mc:\\users\\numan\\appdata\\local\\programs\\python\\python39\\lib\\site-packages\\pandas\\io\\formats\\format.py\u001b[0m in \u001b[0;36mto_csv\u001b[1;34m(self, path_or_buf, encoding, sep, columns, index_label, mode, compression, quoting, quotechar, line_terminator, chunksize, date_format, doublequote, escapechar, errors, storage_options)\u001b[0m\n\u001b[0;32m   1081\u001b[0m             \u001b[0mformatter\u001b[0m\u001b[1;33m=\u001b[0m\u001b[0mself\u001b[0m\u001b[1;33m.\u001b[0m\u001b[0mfmt\u001b[0m\u001b[1;33m,\u001b[0m\u001b[1;33m\u001b[0m\u001b[1;33m\u001b[0m\u001b[0m\n\u001b[0;32m   1082\u001b[0m         )\n\u001b[1;32m-> 1083\u001b[1;33m         \u001b[0mcsv_formatter\u001b[0m\u001b[1;33m.\u001b[0m\u001b[0msave\u001b[0m\u001b[1;33m(\u001b[0m\u001b[1;33m)\u001b[0m\u001b[1;33m\u001b[0m\u001b[1;33m\u001b[0m\u001b[0m\n\u001b[0m\u001b[0;32m   1084\u001b[0m \u001b[1;33m\u001b[0m\u001b[0m\n\u001b[0;32m   1085\u001b[0m         \u001b[1;32mif\u001b[0m \u001b[0mcreated_buffer\u001b[0m\u001b[1;33m:\u001b[0m\u001b[1;33m\u001b[0m\u001b[1;33m\u001b[0m\u001b[0m\n",
      "\u001b[1;32mc:\\users\\numan\\appdata\\local\\programs\\python\\python39\\lib\\site-packages\\pandas\\io\\formats\\csvs.py\u001b[0m in \u001b[0;36msave\u001b[1;34m(self)\u001b[0m\n\u001b[0;32m    226\u001b[0m         \"\"\"\n\u001b[0;32m    227\u001b[0m         \u001b[1;31m# apply compression and byte/text conversion\u001b[0m\u001b[1;33m\u001b[0m\u001b[1;33m\u001b[0m\u001b[1;33m\u001b[0m\u001b[0m\n\u001b[1;32m--> 228\u001b[1;33m         with get_handle(\n\u001b[0m\u001b[0;32m    229\u001b[0m             \u001b[0mself\u001b[0m\u001b[1;33m.\u001b[0m\u001b[0mfilepath_or_buffer\u001b[0m\u001b[1;33m,\u001b[0m\u001b[1;33m\u001b[0m\u001b[1;33m\u001b[0m\u001b[0m\n\u001b[0;32m    230\u001b[0m             \u001b[0mself\u001b[0m\u001b[1;33m.\u001b[0m\u001b[0mmode\u001b[0m\u001b[1;33m,\u001b[0m\u001b[1;33m\u001b[0m\u001b[1;33m\u001b[0m\u001b[0m\n",
      "\u001b[1;32mc:\\users\\numan\\appdata\\local\\programs\\python\\python39\\lib\\site-packages\\pandas\\io\\common.py\u001b[0m in \u001b[0;36mget_handle\u001b[1;34m(path_or_buf, mode, encoding, compression, memory_map, is_text, errors, storage_options)\u001b[0m\n\u001b[0;32m    640\u001b[0m                 \u001b[0merrors\u001b[0m \u001b[1;33m=\u001b[0m \u001b[1;34m\"replace\"\u001b[0m\u001b[1;33m\u001b[0m\u001b[1;33m\u001b[0m\u001b[0m\n\u001b[0;32m    641\u001b[0m             \u001b[1;31m# Encoding\u001b[0m\u001b[1;33m\u001b[0m\u001b[1;33m\u001b[0m\u001b[1;33m\u001b[0m\u001b[0m\n\u001b[1;32m--> 642\u001b[1;33m             handle = open(\n\u001b[0m\u001b[0;32m    643\u001b[0m                 \u001b[0mhandle\u001b[0m\u001b[1;33m,\u001b[0m\u001b[1;33m\u001b[0m\u001b[1;33m\u001b[0m\u001b[0m\n\u001b[0;32m    644\u001b[0m                 \u001b[0mioargs\u001b[0m\u001b[1;33m.\u001b[0m\u001b[0mmode\u001b[0m\u001b[1;33m,\u001b[0m\u001b[1;33m\u001b[0m\u001b[1;33m\u001b[0m\u001b[0m\n",
      "\u001b[1;31mPermissionError\u001b[0m: [Errno 13] Permission denied: '\\\\president_dataset.csv'"
     ]
    }
   ],
   "source": [
    "df[['Content', 'Label']].to_csv(r'\\president_dataset.csv', index = False)"
   ]
  },
  {
   "cell_type": "code",
   "execution_count": null,
   "id": "personalized-given",
   "metadata": {},
   "outputs": [],
   "source": []
  }
 ],
 "metadata": {
  "kernelspec": {
   "display_name": "Python 3",
   "language": "python",
   "name": "python3"
  },
  "language_info": {
   "codemirror_mode": {
    "name": "ipython",
    "version": 3
   },
   "file_extension": ".py",
   "mimetype": "text/x-python",
   "name": "python",
   "nbconvert_exporter": "python",
   "pygments_lexer": "ipython3",
   "version": "3.9.1"
  }
 },
 "nbformat": 4,
 "nbformat_minor": 5
}

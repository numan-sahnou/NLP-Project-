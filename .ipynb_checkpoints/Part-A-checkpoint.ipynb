{
 "cells": [
  {
   "cell_type": "markdown",
   "id": "variable-peeing",
   "metadata": {},
   "source": [
    "# Numan SAHNOU & Matthieu ECCHER "
   ]
  },
  {
   "cell_type": "markdown",
   "id": "breathing-direction",
   "metadata": {},
   "source": [
    "## PART A - PROJECT 1 NLP PRESIDENT SPEECHES "
   ]
  },
  {
   "cell_type": "code",
   "execution_count": 11,
   "id": "complete-verse",
   "metadata": {},
   "outputs": [],
   "source": [
    "import pandas as pd\n",
    "import numpy as np\n",
    "import nltk\n",
    "import string\n",
    "import re\n",
    "from sklearn.feature_extraction.text import TfidfVectorizer\n",
    "from sklearn.model_selection import train_test_split\n",
    "import os, sys"
   ]
  },
  {
   "cell_type": "markdown",
   "id": "complex-gossip",
   "metadata": {},
   "source": [
    "### Create a dataframe with name of president, the file name & the content :"
   ]
  },
  {
   "cell_type": "code",
   "execution_count": 12,
   "id": "purple-girlfriend",
   "metadata": {},
   "outputs": [
    {
     "name": "stdout",
     "output_type": "stream",
     "text": [
      "['Andrew Jackson', 'Barack Obama', 'Bill Clinton', 'Donald Trump', 'Franklin D. Roosevelt', 'George H. W. Bush', 'George W. Bush', 'George Washington', 'Richard M. Nixon', 'Ronald Reagan', 'Thomas Jefferson']\n"
     ]
    }
   ],
   "source": [
    "# Open a file\n",
    "path = 'presidents-speeches/'\n",
    "dirs = os.listdir( path )\n",
    "\n",
    "# This would print all the files and directories\n",
    "print(dirs)"
   ]
  },
  {
   "cell_type": "code",
   "execution_count": 13,
   "id": "compound-helen",
   "metadata": {},
   "outputs": [],
   "source": [
    "df = pd.DataFrame(columns = ['President', 'File Name', 'Content'])"
   ]
  },
  {
   "cell_type": "code",
   "execution_count": 14,
   "id": "statewide-queens",
   "metadata": {},
   "outputs": [],
   "source": [
    "for i in dirs:\n",
    "    speeches_path = path + i + '/speeches/'\n",
    "    for j in os.listdir(speeches_path):\n",
    "        f = open(speeches_path+j,'r', encoding=\"utf-8\")\n",
    "        df = df.append({'President' : i, 'File Name' : j,'Content': f.read()}, ignore_index=True)"
   ]
  },
  {
   "cell_type": "code",
   "execution_count": 15,
   "id": "rapid-damages",
   "metadata": {
    "scrolled": true
   },
   "outputs": [
    {
     "data": {
      "text/html": [
       "<div>\n",
       "<style scoped>\n",
       "    .dataframe tbody tr th:only-of-type {\n",
       "        vertical-align: middle;\n",
       "    }\n",
       "\n",
       "    .dataframe tbody tr th {\n",
       "        vertical-align: top;\n",
       "    }\n",
       "\n",
       "    .dataframe thead th {\n",
       "        text-align: right;\n",
       "    }\n",
       "</style>\n",
       "<table border=\"1\" class=\"dataframe\">\n",
       "  <thead>\n",
       "    <tr style=\"text-align: right;\">\n",
       "      <th></th>\n",
       "      <th>President</th>\n",
       "      <th>File Name</th>\n",
       "      <th>Content</th>\n",
       "    </tr>\n",
       "  </thead>\n",
       "  <tbody>\n",
       "    <tr>\n",
       "      <th>0</th>\n",
       "      <td>Andrew Jackson</td>\n",
       "      <td>April 15, 1834__ProtestofSenateCensure.txt</td>\n",
       "      <td>b'To the Senate of the United States:\\nIt appe...</td>\n",
       "    </tr>\n",
       "    <tr>\n",
       "      <th>1</th>\n",
       "      <td>Andrew Jackson</td>\n",
       "      <td>April 21, 1834__AddendumtotheProtestofSenateCe...</td>\n",
       "      <td>b'To the Senate of the United States:\\nHaving ...</td>\n",
       "    </tr>\n",
       "    <tr>\n",
       "      <th>2</th>\n",
       "      <td>Andrew Jackson</td>\n",
       "      <td>December 1, 1834__SixthAnnualMessagetoCongress...</td>\n",
       "      <td>b'Fellow Citizens of the Senate and House of R...</td>\n",
       "    </tr>\n",
       "    <tr>\n",
       "      <th>3</th>\n",
       "      <td>Andrew Jackson</td>\n",
       "      <td>December 10, 1832__NullificationProclamation.txt</td>\n",
       "      <td>b'By Andrew Jackson, President of the United S...</td>\n",
       "    </tr>\n",
       "    <tr>\n",
       "      <th>4</th>\n",
       "      <td>Andrew Jackson</td>\n",
       "      <td>December 12, 1833__MessageontheConstitutionalR...</td>\n",
       "      <td>b'I have attentively considered the resolution...</td>\n",
       "    </tr>\n",
       "    <tr>\n",
       "      <th>...</th>\n",
       "      <td>...</td>\n",
       "      <td>...</td>\n",
       "      <td>...</td>\n",
       "    </tr>\n",
       "    <tr>\n",
       "      <th>370</th>\n",
       "      <td>Thomas Jefferson</td>\n",
       "      <td>November 3, 1802__AddresstoBrotherHandsomeLake...</td>\n",
       "      <td>b\"TO BROTHER HANDSOME LAKE:           I have r...</td>\n",
       "    </tr>\n",
       "    <tr>\n",
       "      <th>371</th>\n",
       "      <td>Thomas Jefferson</td>\n",
       "      <td>November 8, 1804__FourthAnnualMessage.txt</td>\n",
       "      <td>b'To the Senate and House of Representatives o...</td>\n",
       "    </tr>\n",
       "    <tr>\n",
       "      <th>372</th>\n",
       "      <td>Thomas Jefferson</td>\n",
       "      <td>November 8, 1808__EighthAnnualMessage.txt</td>\n",
       "      <td>b\"  TO THE SENATE AND HOUSE OF REPRESENTATIVES...</td>\n",
       "    </tr>\n",
       "    <tr>\n",
       "      <th>373</th>\n",
       "      <td>Thomas Jefferson</td>\n",
       "      <td>October 17, 1803__ThirdAnnualMessage.txt</td>\n",
       "      <td>b'TO THE SENATE AND HOUSE OF REPRESENTATIVES O...</td>\n",
       "    </tr>\n",
       "    <tr>\n",
       "      <th>374</th>\n",
       "      <td>Thomas Jefferson</td>\n",
       "      <td>October 27, 1807__SeventhAnnualMessage.txt</td>\n",
       "      <td>b\"  To the Senate and House of Representatives...</td>\n",
       "    </tr>\n",
       "  </tbody>\n",
       "</table>\n",
       "<p>375 rows × 3 columns</p>\n",
       "</div>"
      ],
      "text/plain": [
       "            President                                          File Name  \\\n",
       "0      Andrew Jackson         April 15, 1834__ProtestofSenateCensure.txt   \n",
       "1      Andrew Jackson  April 21, 1834__AddendumtotheProtestofSenateCe...   \n",
       "2      Andrew Jackson  December 1, 1834__SixthAnnualMessagetoCongress...   \n",
       "3      Andrew Jackson   December 10, 1832__NullificationProclamation.txt   \n",
       "4      Andrew Jackson  December 12, 1833__MessageontheConstitutionalR...   \n",
       "..                ...                                                ...   \n",
       "370  Thomas Jefferson  November 3, 1802__AddresstoBrotherHandsomeLake...   \n",
       "371  Thomas Jefferson          November 8, 1804__FourthAnnualMessage.txt   \n",
       "372  Thomas Jefferson          November 8, 1808__EighthAnnualMessage.txt   \n",
       "373  Thomas Jefferson           October 17, 1803__ThirdAnnualMessage.txt   \n",
       "374  Thomas Jefferson         October 27, 1807__SeventhAnnualMessage.txt   \n",
       "\n",
       "                                               Content  \n",
       "0    b'To the Senate of the United States:\\nIt appe...  \n",
       "1    b'To the Senate of the United States:\\nHaving ...  \n",
       "2    b'Fellow Citizens of the Senate and House of R...  \n",
       "3    b'By Andrew Jackson, President of the United S...  \n",
       "4    b'I have attentively considered the resolution...  \n",
       "..                                                 ...  \n",
       "370  b\"TO BROTHER HANDSOME LAKE:           I have r...  \n",
       "371  b'To the Senate and House of Representatives o...  \n",
       "372  b\"  TO THE SENATE AND HOUSE OF REPRESENTATIVES...  \n",
       "373  b'TO THE SENATE AND HOUSE OF REPRESENTATIVES O...  \n",
       "374  b\"  To the Senate and House of Representatives...  \n",
       "\n",
       "[375 rows x 3 columns]"
      ]
     },
     "execution_count": 15,
     "metadata": {},
     "output_type": "execute_result"
    }
   ],
   "source": [
    "df"
   ]
  },
  {
   "cell_type": "markdown",
   "id": "pediatric-martin",
   "metadata": {},
   "source": [
    "### Data pre-processing"
   ]
  },
  {
   "cell_type": "code",
   "execution_count": 16,
   "id": "checked-preliminary",
   "metadata": {},
   "outputs": [],
   "source": [
    "from nltk.corpus import stopwords\n",
    "from nltk.tokenize import word_tokenize\n",
    "from nltk.tokenize import RegexpTokenizer\n",
    "from nltk.stem import WordNetLemmatizer "
   ]
  },
  {
   "cell_type": "code",
   "execution_count": 17,
   "id": "celtic-interpretation",
   "metadata": {},
   "outputs": [],
   "source": [
    "df.Content = df['Content'].apply(lambda x: re.sub(r'\\\\n', ' ', x))\n",
    "df.Content = df['Content'].apply(lambda x: re.sub(r'\\\\xc2', ' ', x))\n",
    "df.Content = df['Content'].apply(lambda x: re.sub(r'\\\\xa0', ' ', x))\n",
    "df.Content = df['Content'].apply(lambda x: re.sub(r'\\\\xe2', ' ', x))\n",
    "df.Content = df['Content'].apply(lambda x: re.sub(r'\\\\x99', ' ', x))\n",
    "df.Content = df['Content'].apply(lambda x: re.sub(r'\\\\x80', ' ', x))\n",
    "df.Content = df['Content'].apply(lambda x: re.sub(r'\\\\x93', ' ', x))\n",
    "df.Content = df['Content'].apply(lambda x: re.sub(r'\\\\x9', ' ', x))\n",
    "df.Content = df['Content'].apply(lambda x: re.sub(r'\\\\x94', ' ', x))\n",
    "df.Content = df['Content'].apply(lambda x: re.sub(r'd\\\\\\'', ' ', x))\n",
    "df.Content = df['Content'].apply(lambda x: re.sub(r'\\'', ' ', x))\n",
    "df.Content = df['Content'].apply(lambda x: re.sub(r'\\\\', ' ', x))\n",
    "df.Content = df['Content'].apply(lambda x: re.sub(r'\\\\\\'', ' ', x))\n",
    "df.Content = df['Content'].apply(lambda x: x[2:])\n",
    "\n",
    "#Tokenizer\n",
    "tokenizer = RegexpTokenizer(r'\\w+')\n",
    "df.Content = df.Content.str.lower()\n",
    "df.Content = df.Content.apply(lambda x: tokenizer.tokenize(x))\n",
    "\n",
    "#Remove Stopwords\n",
    "stopWords = set(stopwords.words(\"english\"))\n",
    "df.Content = df.Content.apply(lambda x: [word for word in x if not word in stopWords])\n",
    "\n",
    "#Lemmatizer\n",
    "def lemmatize_text(text):\n",
    "    lemmatizer = WordNetLemmatizer()\n",
    "    return [lemmatizer.lemmatize(w) for w in text]\n",
    "\n",
    "df.Content = df.Content.apply(lambda x: lemmatize_text(x))\n",
    "\n",
    "\n",
    "\n",
    "df.Content = df.Content.apply(lambda x: ' '.join([str(elem) for elem in x]))"
   ]
  },
  {
   "cell_type": "markdown",
   "id": "ethical-timer",
   "metadata": {},
   "source": [
    "### Label"
   ]
  },
  {
   "cell_type": "code",
   "execution_count": 18,
   "id": "removed-integer",
   "metadata": {},
   "outputs": [],
   "source": [
    "label = {\n",
    "    'Andrew Jackson'        : 0,\n",
    "    'Barack Obama'          : 1,\n",
    "    'Bill Clinton'          : 2,\n",
    "    'Donald Trump'          : 3,\n",
    "    'Franklin D. Roosevelt' : 4,\n",
    "    'George H. W. Bush'     : 5,\n",
    "    'George W. Bush'        : 6,\n",
    "    'George Washington'     : 7,\n",
    "    'Richard M. Nixon'      : 8,\n",
    "    'Ronald Reagan'         : 9,\n",
    "    'Thomas Jefferson'      : 10\n",
    "}\n",
    "\n",
    "df['Label'] = df['President']\n",
    "df = df.replace({'Label' : label})"
   ]
  },
  {
   "cell_type": "code",
   "execution_count": 19,
   "id": "mighty-fantasy",
   "metadata": {},
   "outputs": [
    {
     "data": {
      "text/html": [
       "<div>\n",
       "<style scoped>\n",
       "    .dataframe tbody tr th:only-of-type {\n",
       "        vertical-align: middle;\n",
       "    }\n",
       "\n",
       "    .dataframe tbody tr th {\n",
       "        vertical-align: top;\n",
       "    }\n",
       "\n",
       "    .dataframe thead th {\n",
       "        text-align: right;\n",
       "    }\n",
       "</style>\n",
       "<table border=\"1\" class=\"dataframe\">\n",
       "  <thead>\n",
       "    <tr style=\"text-align: right;\">\n",
       "      <th></th>\n",
       "      <th>President</th>\n",
       "      <th>File Name</th>\n",
       "      <th>Content</th>\n",
       "      <th>Label</th>\n",
       "    </tr>\n",
       "  </thead>\n",
       "  <tbody>\n",
       "    <tr>\n",
       "      <th>0</th>\n",
       "      <td>Andrew Jackson</td>\n",
       "      <td>April 15, 1834__ProtestofSenateCensure.txt</td>\n",
       "      <td>senate united state appears published journal ...</td>\n",
       "      <td>0</td>\n",
       "    </tr>\n",
       "    <tr>\n",
       "      <th>1</th>\n",
       "      <td>Andrew Jackson</td>\n",
       "      <td>April 21, 1834__AddendumtotheProtestofSenateCe...</td>\n",
       "      <td>senate united state reason believe certain pas...</td>\n",
       "      <td>0</td>\n",
       "    </tr>\n",
       "    <tr>\n",
       "      <th>2</th>\n",
       "      <td>Andrew Jackson</td>\n",
       "      <td>December 1, 1834__SixthAnnualMessagetoCongress...</td>\n",
       "      <td>fellow citizen senate house representative per...</td>\n",
       "      <td>0</td>\n",
       "    </tr>\n",
       "    <tr>\n",
       "      <th>3</th>\n",
       "      <td>Andrew Jackson</td>\n",
       "      <td>December 10, 1832__NullificationProclamation.txt</td>\n",
       "      <td>andrew jackson president united state whereas ...</td>\n",
       "      <td>0</td>\n",
       "    </tr>\n",
       "    <tr>\n",
       "      <th>4</th>\n",
       "      <td>Andrew Jackson</td>\n",
       "      <td>December 12, 1833__MessageontheConstitutionalR...</td>\n",
       "      <td>attentively considered resolution senate 11th ...</td>\n",
       "      <td>0</td>\n",
       "    </tr>\n",
       "    <tr>\n",
       "      <th>...</th>\n",
       "      <td>...</td>\n",
       "      <td>...</td>\n",
       "      <td>...</td>\n",
       "      <td>...</td>\n",
       "    </tr>\n",
       "    <tr>\n",
       "      <th>370</th>\n",
       "      <td>Thomas Jefferson</td>\n",
       "      <td>November 3, 1802__AddresstoBrotherHandsomeLake...</td>\n",
       "      <td>brother handsome lake received message writing...</td>\n",
       "      <td>10</td>\n",
       "    </tr>\n",
       "    <tr>\n",
       "      <th>371</th>\n",
       "      <td>Thomas Jefferson</td>\n",
       "      <td>November 8, 1804__FourthAnnualMessage.txt</td>\n",
       "      <td>senate house representative united state peopl...</td>\n",
       "      <td>10</td>\n",
       "    </tr>\n",
       "    <tr>\n",
       "      <th>372</th>\n",
       "      <td>Thomas Jefferson</td>\n",
       "      <td>November 8, 1808__EighthAnnualMessage.txt</td>\n",
       "      <td>senate house representative united state would...</td>\n",
       "      <td>10</td>\n",
       "    </tr>\n",
       "    <tr>\n",
       "      <th>373</th>\n",
       "      <td>Thomas Jefferson</td>\n",
       "      <td>October 17, 1803__ThirdAnnualMessage.txt</td>\n",
       "      <td>senate house representative united state calli...</td>\n",
       "      <td>10</td>\n",
       "    </tr>\n",
       "    <tr>\n",
       "      <th>374</th>\n",
       "      <td>Thomas Jefferson</td>\n",
       "      <td>October 27, 1807__SeventhAnnualMessage.txt</td>\n",
       "      <td>senate house representative united state circu...</td>\n",
       "      <td>10</td>\n",
       "    </tr>\n",
       "  </tbody>\n",
       "</table>\n",
       "<p>375 rows × 4 columns</p>\n",
       "</div>"
      ],
      "text/plain": [
       "            President                                          File Name  \\\n",
       "0      Andrew Jackson         April 15, 1834__ProtestofSenateCensure.txt   \n",
       "1      Andrew Jackson  April 21, 1834__AddendumtotheProtestofSenateCe...   \n",
       "2      Andrew Jackson  December 1, 1834__SixthAnnualMessagetoCongress...   \n",
       "3      Andrew Jackson   December 10, 1832__NullificationProclamation.txt   \n",
       "4      Andrew Jackson  December 12, 1833__MessageontheConstitutionalR...   \n",
       "..                ...                                                ...   \n",
       "370  Thomas Jefferson  November 3, 1802__AddresstoBrotherHandsomeLake...   \n",
       "371  Thomas Jefferson          November 8, 1804__FourthAnnualMessage.txt   \n",
       "372  Thomas Jefferson          November 8, 1808__EighthAnnualMessage.txt   \n",
       "373  Thomas Jefferson           October 17, 1803__ThirdAnnualMessage.txt   \n",
       "374  Thomas Jefferson         October 27, 1807__SeventhAnnualMessage.txt   \n",
       "\n",
       "                                               Content  Label  \n",
       "0    senate united state appears published journal ...      0  \n",
       "1    senate united state reason believe certain pas...      0  \n",
       "2    fellow citizen senate house representative per...      0  \n",
       "3    andrew jackson president united state whereas ...      0  \n",
       "4    attentively considered resolution senate 11th ...      0  \n",
       "..                                                 ...    ...  \n",
       "370  brother handsome lake received message writing...     10  \n",
       "371  senate house representative united state peopl...     10  \n",
       "372  senate house representative united state would...     10  \n",
       "373  senate house representative united state calli...     10  \n",
       "374  senate house representative united state circu...     10  \n",
       "\n",
       "[375 rows x 4 columns]"
      ]
     },
     "execution_count": 19,
     "metadata": {},
     "output_type": "execute_result"
    }
   ],
   "source": [
    "df"
   ]
  },
  {
   "cell_type": "markdown",
   "id": "explicit-identifier",
   "metadata": {},
   "source": [
    "### Test Train split"
   ]
  },
  {
   "cell_type": "code",
   "execution_count": 20,
   "id": "north-collection",
   "metadata": {},
   "outputs": [],
   "source": [
    "from sklearn.model_selection import train_test_split\n",
    "train, test = train_test_split(df[['Content', 'Label']], test_size=0.2)"
   ]
  },
  {
   "cell_type": "code",
   "execution_count": 21,
   "id": "massive-coupon",
   "metadata": {},
   "outputs": [],
   "source": [
    "train.reset_index(drop=True, inplace=True)\n",
    "test.reset_index(drop=True, inplace=True)"
   ]
  },
  {
   "cell_type": "markdown",
   "id": "presidential-soldier",
   "metadata": {},
   "source": [
    "### Count Vectorizer"
   ]
  },
  {
   "cell_type": "code",
   "execution_count": 22,
   "id": "divided-commerce",
   "metadata": {},
   "outputs": [],
   "source": [
    "from sklearn.feature_extraction.text import CountVectorizer\n",
    "\n",
    "count_vect = CountVectorizer()\n",
    "count_vect.fit(train.Content)\n",
    "X_train_vect = count_vect.transform(train.Content)\n",
    "y_train = train.Label\n",
    "\n",
    "\n",
    "X_test_vect = count_vect.transform(test.Content)\n",
    "y_test = test.Label"
   ]
  },
  {
   "cell_type": "markdown",
   "id": "level-producer",
   "metadata": {},
   "source": [
    "### KNeighbors Classifier"
   ]
  },
  {
   "cell_type": "code",
   "execution_count": 25,
   "id": "passive-popularity",
   "metadata": {},
   "outputs": [
    {
     "name": "stdout",
     "output_type": "stream",
     "text": [
      "0.4533333333333333\n"
     ]
    },
    {
     "name": "stderr",
     "output_type": "stream",
     "text": [
      "c:\\users\\numan\\appdata\\local\\programs\\python\\python39\\lib\\site-packages\\sklearn\\neighbors\\_base.py:462: UserWarning: cannot use tree with sparse input: using brute force\n",
      "  warnings.warn(\"cannot use tree with sparse input: \"\n"
     ]
    }
   ],
   "source": [
    "from sklearn.neighbors import KNeighborsClassifier\n",
    "\n",
    "\n",
    "clf_ = KNeighborsClassifier(n_neighbors=4, weights='distance',algorithm='kd_tree')\n",
    "clf_.fit(X_train_vect, y_train)\n",
    "\n",
    "from sklearn.metrics import accuracy_score\n",
    "\n",
    "prediction = clf_.predict(X_test_vect)\n",
    "print(accuracy_score(y_test, prediction))"
   ]
  },
  {
   "cell_type": "markdown",
   "id": "neutral-variable",
   "metadata": {},
   "source": [
    "### Gradient Boosting Classifier"
   ]
  },
  {
   "cell_type": "code",
   "execution_count": 26,
   "id": "freelance-czech",
   "metadata": {},
   "outputs": [
    {
     "data": {
      "text/plain": [
       "0.6"
      ]
     },
     "execution_count": 26,
     "metadata": {},
     "output_type": "execute_result"
    }
   ],
   "source": [
    "from sklearn.ensemble import GradientBoostingClassifier\n",
    "\n",
    "clf = GradientBoostingClassifier(n_estimators=100, learning_rate=0.1,\n",
    "max_depth=10, random_state=0).fit(X_train_vect, y_train)\n",
    "\n",
    "clf.score(X_test_vect, y_test)"
   ]
  },
  {
   "cell_type": "markdown",
   "id": "numerous-traveler",
   "metadata": {},
   "source": [
    "### XG Boost Classifier"
   ]
  },
  {
   "cell_type": "code",
   "execution_count": 27,
   "id": "changing-adult",
   "metadata": {},
   "outputs": [
    {
     "name": "stderr",
     "output_type": "stream",
     "text": [
      "c:\\users\\numan\\appdata\\local\\programs\\python\\python39\\lib\\site-packages\\xgboost\\sklearn.py:888: UserWarning: The use of label encoder in XGBClassifier is deprecated and will be removed in a future release. To remove this warning, do the following: 1) Pass option use_label_encoder=False when constructing XGBClassifier object; and 2) Encode your labels (y) as integers starting with 0, i.e. 0, 1, 2, ..., [num_class - 1].\n",
      "  warnings.warn(label_encoder_deprecation_msg, UserWarning)\n"
     ]
    },
    {
     "name": "stdout",
     "output_type": "stream",
     "text": [
      "[08:41:00] WARNING: C:/Users/Administrator/workspace/xgboost-win64_release_1.3.0/src/learner.cc:541: \n",
      "Parameters: { scale_pos_weight, silent } might not be used.\n",
      "\n",
      "  This may not be accurate due to some parameters are only used in language bindings but\n",
      "  passed down to XGBoost core.  Or some parameters are not used but slip through this\n",
      "  verification. Please open an issue if you find above cases.\n",
      "\n",
      "\n",
      "[08:41:00] WARNING: C:/Users/Administrator/workspace/xgboost-win64_release_1.3.0/src/learner.cc:1061: Starting in XGBoost 1.3.0, the default evaluation metric used with the objective 'multi:softprob' was changed from 'merror' to 'mlogloss'. Explicitly set eval_metric if you'd like to restore the old behavior.\n",
      "0.72\n"
     ]
    }
   ],
   "source": [
    "from xgboost import XGBClassifier\n",
    "from sklearn.metrics import mean_squared_error\n",
    "\n",
    "model = XGBClassifier(silent=False, \n",
    "                      scale_pos_weight=1,\n",
    "                      learning_rate=0.1,  \n",
    "                      colsample_bytree = 0.8,\n",
    "                      subsample = 0.8,\n",
    "                      objective='binary:logistic', \n",
    "                      n_estimators=1000, \n",
    "                      reg_alpha = 0.3,\n",
    "                      max_depth=10, \n",
    "                      gamma=1)\n",
    "\n",
    "model.fit(X_train_vect,y_train)\n",
    "\n",
    "\n",
    "preds = model.predict(X_test_vect)\n",
    "\n",
    "predictions = [round(value) for value in preds]\n",
    "\n",
    "print(accuracy_score(y_test, predictions))"
   ]
  },
  {
   "cell_type": "markdown",
   "id": "unlike-douglas",
   "metadata": {},
   "source": [
    "### Logistic Regression"
   ]
  },
  {
   "cell_type": "code",
   "execution_count": 32,
   "id": "operational-house",
   "metadata": {},
   "outputs": [
    {
     "name": "stdout",
     "output_type": "stream",
     "text": [
      "0.8533333333333334\n"
     ]
    }
   ],
   "source": [
    "from sklearn.linear_model import LogisticRegression\n",
    "\n",
    "classifier = LogisticRegression(max_iter=10000)\n",
    "classifier.fit(X_train_vect, y_train)\n",
    "\n",
    "predictions = classifier.predict(X_test_vect)\n",
    "\n",
    "print(accuracy_score(y_test, predictions))"
   ]
  },
  {
   "cell_type": "code",
   "execution_count": 61,
   "id": "lesser-money",
   "metadata": {},
   "outputs": [],
   "source": [
    "import matplotlib.pyplot as plt\n",
    "\n",
    "_predictions = pd.DataFrame(predictions)\n",
    "_real = pd.DataFrame(y_test)\n",
    "\n",
    "jj = {\"Predicted\":_predictions[0].tolist(),\"Realistic\":y_test}\n",
    "df1 = pd.DataFrame(jj)\n",
    "\n",
    "categories = [0,1,2,3,4,5,6,7,8,9,10]\n"
   ]
  },
  {
   "cell_type": "code",
   "execution_count": 62,
   "id": "solved-kentucky",
   "metadata": {},
   "outputs": [
    {
     "data": {
      "text/html": [
       "<div>\n",
       "<style scoped>\n",
       "    .dataframe tbody tr th:only-of-type {\n",
       "        vertical-align: middle;\n",
       "    }\n",
       "\n",
       "    .dataframe tbody tr th {\n",
       "        vertical-align: top;\n",
       "    }\n",
       "\n",
       "    .dataframe thead th {\n",
       "        text-align: right;\n",
       "    }\n",
       "</style>\n",
       "<table border=\"1\" class=\"dataframe\">\n",
       "  <thead>\n",
       "    <tr style=\"text-align: right;\">\n",
       "      <th></th>\n",
       "      <th>Predicted</th>\n",
       "      <th>Realistic</th>\n",
       "    </tr>\n",
       "  </thead>\n",
       "  <tbody>\n",
       "    <tr>\n",
       "      <th>0</th>\n",
       "      <td>0</td>\n",
       "      <td>0</td>\n",
       "    </tr>\n",
       "    <tr>\n",
       "      <th>1</th>\n",
       "      <td>3</td>\n",
       "      <td>3</td>\n",
       "    </tr>\n",
       "    <tr>\n",
       "      <th>2</th>\n",
       "      <td>9</td>\n",
       "      <td>9</td>\n",
       "    </tr>\n",
       "    <tr>\n",
       "      <th>3</th>\n",
       "      <td>9</td>\n",
       "      <td>9</td>\n",
       "    </tr>\n",
       "    <tr>\n",
       "      <th>4</th>\n",
       "      <td>10</td>\n",
       "      <td>10</td>\n",
       "    </tr>\n",
       "    <tr>\n",
       "      <th>...</th>\n",
       "      <td>...</td>\n",
       "      <td>...</td>\n",
       "    </tr>\n",
       "    <tr>\n",
       "      <th>70</th>\n",
       "      <td>9</td>\n",
       "      <td>9</td>\n",
       "    </tr>\n",
       "    <tr>\n",
       "      <th>71</th>\n",
       "      <td>2</td>\n",
       "      <td>2</td>\n",
       "    </tr>\n",
       "    <tr>\n",
       "      <th>72</th>\n",
       "      <td>1</td>\n",
       "      <td>1</td>\n",
       "    </tr>\n",
       "    <tr>\n",
       "      <th>73</th>\n",
       "      <td>4</td>\n",
       "      <td>4</td>\n",
       "    </tr>\n",
       "    <tr>\n",
       "      <th>74</th>\n",
       "      <td>9</td>\n",
       "      <td>9</td>\n",
       "    </tr>\n",
       "  </tbody>\n",
       "</table>\n",
       "<p>75 rows × 2 columns</p>\n",
       "</div>"
      ],
      "text/plain": [
       "    Predicted  Realistic\n",
       "0           0          0\n",
       "1           3          3\n",
       "2           9          9\n",
       "3           9          9\n",
       "4          10         10\n",
       "..        ...        ...\n",
       "70          9          9\n",
       "71          2          2\n",
       "72          1          1\n",
       "73          4          4\n",
       "74          9          9\n",
       "\n",
       "[75 rows x 2 columns]"
      ]
     },
     "execution_count": 62,
     "metadata": {},
     "output_type": "execute_result"
    }
   ],
   "source": [
    "df1"
   ]
  },
  {
   "cell_type": "code",
   "execution_count": 64,
   "id": "dominican-crown",
   "metadata": {},
   "outputs": [
    {
     "data": {
      "image/png": "[encoded data removed]",
      "text/plain": [
       "<Figure size 432x288 with 1 Axes>"
      ]
     },
     "metadata": {
      "needs_background": "light"
     },
     "output_type": "display_data"
    }
   ],
   "source": [
    "index = np.arange(len(categories))\n",
    "bar_width = 0.35\n",
    "\n",
    "fig, ax = plt.subplots()\n",
    "predicted = ax.bar(index, df1[\"Predicted\"].value_counts(), bar_width,label=\"Predicted\")\n",
    "\n",
    "realistic = ax.bar(index+bar_width, df1[\"Realistic\"].value_counts(),\n",
    "                 bar_width, label=\"Realistic\")\n",
    "\n",
    "ax.set_xlabel('Categories')\n",
    "ax.set_ylabel('Count')\n",
    "ax.set_title('Comparing real vs predicted data')\n",
    "ax.set_xticks(index + bar_width / 2)\n",
    "ax.set_xticklabels(categories)\n",
    "ax.legend()\n",
    "\n",
    "plt.show()"
   ]
  },
  {
   "cell_type": "markdown",
   "id": "ordinary-drill",
   "metadata": {},
   "source": [
    "### Save the dataframe for Part B"
   ]
  },
  {
   "cell_type": "code",
   "execution_count": 65,
   "id": "subjective-thong",
   "metadata": {},
   "outputs": [],
   "source": [
    "df[['President','File Name','Content']].to_csv(r'C:\\Users\\Numan\\Desktop\\TP 1\\president_dataset.csv', index = False)"
   ]
  }
 ],
 "metadata": {
  "kernelspec": {
   "display_name": "Python 3",
   "language": "python",
   "name": "python3"
  },
  "language_info": {
   "codemirror_mode": {
    "name": "ipython",
    "version": 3
   },
   "file_extension": ".py",
   "mimetype": "text/x-python",
   "name": "python",
   "nbconvert_exporter": "python",
   "pygments_lexer": "ipython3",
   "version": "3.9.1"
  }
 },
 "nbformat": 4,
 "nbformat_minor": 5
}
